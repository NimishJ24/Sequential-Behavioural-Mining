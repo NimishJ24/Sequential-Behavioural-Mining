import keyboard
import tkinter as tk

def freeze_screen():
    # Create a simple tkinter popup
    root = tk.Tk()
    root.title("Halt")
    label = tk.Label(root, text="Halt", font=("Helvetica", 24))
    label.pack(padx=20, pady=20)
    button = tk.Button(root, text="OK", command=root.quit)
    button.pack(padx=20, pady=20)
    root.mainloop()

def listen_for_hello():
    while True:
        if keyboard.is_pressed("h") and keyboard.is_pressed("e") and keyboard.is_pressed("l") and keyboard.is_pressed("l") and keyboard.is_pressed("o"):
            freeze_screen()

listen_for_hello()
